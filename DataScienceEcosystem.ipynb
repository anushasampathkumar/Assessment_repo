{
 "cells": [
  {
   "cell_type": "markdown",
   "id": "81139888-df13-4eb0-8bdb-da22b657e821",
   "metadata": {},
   "source": [
    "# Data Science Tools and Ecosystem"
   ]
  },
  {
   "cell_type": "markdown",
   "id": "75927a9a-e866-4c57-a1f4-acc2a430f677",
   "metadata": {},
   "source": [
    "## In this notebook, Data Science Tools and Ecosystem are summarized."
   ]
  },
  {
   "cell_type": "markdown",
   "id": "134323b7-8480-4cc4-80a8-fde0a7e2c56a",
   "metadata": {},
   "source": [
    "**Objectives**\n",
    "\n",
    "- The popular languages are Python, R, SQL, Scala, Java, C++ and Julia.\n",
    "- For data science, you can use python's scientific computing libraries like Pandas, NumPy, SciPy, and Matplotlib.\n",
    "- Git is a distributed version-control system that is used to track changes to content."
   ]
  },
  {
   "cell_type": "markdown",
   "id": "2026082a-2b4c-48d0-8706-3b69abccfbc1",
   "metadata": {},
   "source": [
    "Some of the popular languages that Data Scientists use are:\n",
    "\n",
    "1. R\n",
    "2. Python\n",
    "3. SQL\n",
    "4. Java"
   ]
  },
  {
   "cell_type": "markdown",
   "id": "36a01bf1-cc73-4edd-a60f-10b4be23dd06",
   "metadata": {},
   "source": [
    "Some of the commonly used libraries used by Data Scientists include:\n",
    "\n",
    "1. Pandas\n",
    "2. NumPy\n",
    "3. PyTorch\n",
    "4. TensorFlow"
   ]
  },
  {
   "cell_type": "markdown",
   "id": "45c1adfa-77f0-4d58-b94e-7d49a45534cb",
   "metadata": {
    "tags": []
   },
   "source": [
    "|Data Science Tools|\n",
    "|------------------|\n",
    "|Apache Spark|\n",
    "|Jupiter|\n",
    "|Tensor Flow|"
   ]
  },
  {
   "cell_type": "markdown",
   "id": "42d14d1e-240e-4738-a7ce-95d513d67d83",
   "metadata": {},
   "source": [
    "### Below are a few examples of evaluating arithmetic expressions in Python"
   ]
  },
  {
   "cell_type": "markdown",
   "id": "40272584-c1d1-48f6-80d5-448ddb838b6f",
   "metadata": {},
   "source": [
    "This a simple arithmetic expression to mutiply then add integers"
   ]
  },
  {
   "cell_type": "code",
   "execution_count": 2,
   "id": "fba20dfb-47a6-4e34-a3d1-2d2e933c61c8",
   "metadata": {
    "tags": []
   },
   "outputs": [
    {
     "data": {
      "text/plain": [
       "17"
      ]
     },
     "execution_count": 2,
     "metadata": {},
     "output_type": "execute_result"
    }
   ],
   "source": [
    "(3*4)+5"
   ]
  },
  {
   "cell_type": "markdown",
   "id": "a1140740-b29f-42ff-9128-286385f9ec87",
   "metadata": {},
   "source": [
    "This will convert 200 minutes to hours by diving by 60"
   ]
  },
  {
   "cell_type": "code",
   "execution_count": 3,
   "id": "a2d91053-8e69-4bfc-88be-eeeafd24e6a1",
   "metadata": {
    "tags": []
   },
   "outputs": [
    {
     "data": {
      "text/plain": [
       "3.3333333333333335"
      ]
     },
     "execution_count": 3,
     "metadata": {},
     "output_type": "execute_result"
    }
   ],
   "source": [
    "200/60"
   ]
  },
  {
   "cell_type": "markdown",
   "id": "a0516b17-6dab-4db7-b694-c6e818c95d35",
   "metadata": {},
   "source": [
    "## Author\n",
    "Anusha RS"
   ]
  },
  {
   "cell_type": "code",
   "execution_count": null,
   "id": "62c5a6e3-6794-4047-86b7-b29f0efd6933",
   "metadata": {},
   "outputs": [],
   "source": []
  }
 ],
 "metadata": {
  "kernelspec": {
   "display_name": "Python",
   "language": "python",
   "name": "conda-env-python-py"
  },
  "language_info": {
   "codemirror_mode": {
    "name": "ipython",
    "version": 3
   },
   "file_extension": ".py",
   "mimetype": "text/x-python",
   "name": "python",
   "nbconvert_exporter": "python",
   "pygments_lexer": "ipython3",
   "version": "3.7.12"
  }
 },
 "nbformat": 4,
 "nbformat_minor": 5
}
